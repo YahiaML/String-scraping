{
  "nbformat": 4,
  "nbformat_minor": 0,
  "metadata": {
    "colab": {
      "name": "Extract_data_2.ipynb",
      "provenance": [],
      "authorship_tag": "ABX9TyPeT1+PXvmMo9iuVeGk2sXK",
      "include_colab_link": true
    },
    "kernelspec": {
      "name": "python3",
      "display_name": "Python 3"
    },
    "language_info": {
      "name": "python"
    }
  },
  "cells": [
    {
      "cell_type": "markdown",
      "metadata": {
        "id": "view-in-github",
        "colab_type": "text"
      },
      "source": [
        "<a href=\"https://colab.research.google.com/github/YahiaML/String-scraping/blob/main/Extract_data_2.ipynb\" target=\"_parent\"><img src=\"https://colab.research.google.com/assets/colab-badge.svg\" alt=\"Open In Colab\"/></a>"
      ]
    },
    {
      "cell_type": "code",
      "execution_count": null,
      "metadata": {
        "id": "bzXp4k14WTN5"
      },
      "outputs": [],
      "source": [
        "import pandas as pd\n",
        "import re"
      ]
    },
    {
      "cell_type": "code",
      "source": [
        "df =pd.read_excel(\"/content/sms.xlsx\")"
      ],
      "metadata": {
        "id": "UEZYxI5QW6Mv"
      },
      "execution_count": null,
      "outputs": []
    },
    {
      "cell_type": "code",
      "source": [
        "df.head()"
      ],
      "metadata": {
        "colab": {
          "base_uri": "https://localhost:8080/",
          "height": 206
        },
        "id": "bmDQITP2XByj",
        "outputId": "5118ca40-82f8-4d2c-8d06-44e653f6f56b"
      },
      "execution_count": null,
      "outputs": [
        {
          "output_type": "execute_result",
          "data": {
            "text/plain": [
              "                                            SMS Text Telecom Provider\n",
              "0  عزيزي العميل قد تم دفع مبلغ 1247 جنيها يوم 02/...         etisalat\n",
              "1  تم تجديد باقه الانترنت limited 12 GB لديك 12 ج...           orange\n",
              "2  تم شحن باقه احسن ناس 10 لديك 450 وحده صالحه لم...           orange\n",
              "3  لقد تم دفع مبلغ 500.0 جنيها في حسابك بنجاح يوم...           orange\n",
              "4  قيمه الفاتوره المستحقه الان: 1067.58ج تقدر تدف...           orange"
            ],
            "text/html": [
              "\n",
              "  <div id=\"df-f850f0a0-7ca7-4d4c-8001-ae65efee7366\">\n",
              "    <div class=\"colab-df-container\">\n",
              "      <div>\n",
              "<style scoped>\n",
              "    .dataframe tbody tr th:only-of-type {\n",
              "        vertical-align: middle;\n",
              "    }\n",
              "\n",
              "    .dataframe tbody tr th {\n",
              "        vertical-align: top;\n",
              "    }\n",
              "\n",
              "    .dataframe thead th {\n",
              "        text-align: right;\n",
              "    }\n",
              "</style>\n",
              "<table border=\"1\" class=\"dataframe\">\n",
              "  <thead>\n",
              "    <tr style=\"text-align: right;\">\n",
              "      <th></th>\n",
              "      <th>SMS Text</th>\n",
              "      <th>Telecom Provider</th>\n",
              "    </tr>\n",
              "  </thead>\n",
              "  <tbody>\n",
              "    <tr>\n",
              "      <th>0</th>\n",
              "      <td>عزيزي العميل قد تم دفع مبلغ 1247 جنيها يوم 02/...</td>\n",
              "      <td>etisalat</td>\n",
              "    </tr>\n",
              "    <tr>\n",
              "      <th>1</th>\n",
              "      <td>تم تجديد باقه الانترنت limited 12 GB لديك 12 ج...</td>\n",
              "      <td>orange</td>\n",
              "    </tr>\n",
              "    <tr>\n",
              "      <th>2</th>\n",
              "      <td>تم شحن باقه احسن ناس 10 لديك 450 وحده صالحه لم...</td>\n",
              "      <td>orange</td>\n",
              "    </tr>\n",
              "    <tr>\n",
              "      <th>3</th>\n",
              "      <td>لقد تم دفع مبلغ 500.0 جنيها في حسابك بنجاح يوم...</td>\n",
              "      <td>orange</td>\n",
              "    </tr>\n",
              "    <tr>\n",
              "      <th>4</th>\n",
              "      <td>قيمه الفاتوره المستحقه الان: 1067.58ج تقدر تدف...</td>\n",
              "      <td>orange</td>\n",
              "    </tr>\n",
              "  </tbody>\n",
              "</table>\n",
              "</div>\n",
              "      <button class=\"colab-df-convert\" onclick=\"convertToInteractive('df-f850f0a0-7ca7-4d4c-8001-ae65efee7366')\"\n",
              "              title=\"Convert this dataframe to an interactive table.\"\n",
              "              style=\"display:none;\">\n",
              "        \n",
              "  <svg xmlns=\"http://www.w3.org/2000/svg\" height=\"24px\"viewBox=\"0 0 24 24\"\n",
              "       width=\"24px\">\n",
              "    <path d=\"M0 0h24v24H0V0z\" fill=\"none\"/>\n",
              "    <path d=\"M18.56 5.44l.94 2.06.94-2.06 2.06-.94-2.06-.94-.94-2.06-.94 2.06-2.06.94zm-11 1L8.5 8.5l.94-2.06 2.06-.94-2.06-.94L8.5 2.5l-.94 2.06-2.06.94zm10 10l.94 2.06.94-2.06 2.06-.94-2.06-.94-.94-2.06-.94 2.06-2.06.94z\"/><path d=\"M17.41 7.96l-1.37-1.37c-.4-.4-.92-.59-1.43-.59-.52 0-1.04.2-1.43.59L10.3 9.45l-7.72 7.72c-.78.78-.78 2.05 0 2.83L4 21.41c.39.39.9.59 1.41.59.51 0 1.02-.2 1.41-.59l7.78-7.78 2.81-2.81c.8-.78.8-2.07 0-2.86zM5.41 20L4 18.59l7.72-7.72 1.47 1.35L5.41 20z\"/>\n",
              "  </svg>\n",
              "      </button>\n",
              "      \n",
              "  <style>\n",
              "    .colab-df-container {\n",
              "      display:flex;\n",
              "      flex-wrap:wrap;\n",
              "      gap: 12px;\n",
              "    }\n",
              "\n",
              "    .colab-df-convert {\n",
              "      background-color: #E8F0FE;\n",
              "      border: none;\n",
              "      border-radius: 50%;\n",
              "      cursor: pointer;\n",
              "      display: none;\n",
              "      fill: #1967D2;\n",
              "      height: 32px;\n",
              "      padding: 0 0 0 0;\n",
              "      width: 32px;\n",
              "    }\n",
              "\n",
              "    .colab-df-convert:hover {\n",
              "      background-color: #E2EBFA;\n",
              "      box-shadow: 0px 1px 2px rgba(60, 64, 67, 0.3), 0px 1px 3px 1px rgba(60, 64, 67, 0.15);\n",
              "      fill: #174EA6;\n",
              "    }\n",
              "\n",
              "    [theme=dark] .colab-df-convert {\n",
              "      background-color: #3B4455;\n",
              "      fill: #D2E3FC;\n",
              "    }\n",
              "\n",
              "    [theme=dark] .colab-df-convert:hover {\n",
              "      background-color: #434B5C;\n",
              "      box-shadow: 0px 1px 3px 1px rgba(0, 0, 0, 0.15);\n",
              "      filter: drop-shadow(0px 1px 2px rgba(0, 0, 0, 0.3));\n",
              "      fill: #FFFFFF;\n",
              "    }\n",
              "  </style>\n",
              "\n",
              "      <script>\n",
              "        const buttonEl =\n",
              "          document.querySelector('#df-f850f0a0-7ca7-4d4c-8001-ae65efee7366 button.colab-df-convert');\n",
              "        buttonEl.style.display =\n",
              "          google.colab.kernel.accessAllowed ? 'block' : 'none';\n",
              "\n",
              "        async function convertToInteractive(key) {\n",
              "          const element = document.querySelector('#df-f850f0a0-7ca7-4d4c-8001-ae65efee7366');\n",
              "          const dataTable =\n",
              "            await google.colab.kernel.invokeFunction('convertToInteractive',\n",
              "                                                     [key], {});\n",
              "          if (!dataTable) return;\n",
              "\n",
              "          const docLinkHtml = 'Like what you see? Visit the ' +\n",
              "            '<a target=\"_blank\" href=https://colab.research.google.com/notebooks/data_table.ipynb>data table notebook</a>'\n",
              "            + ' to learn more about interactive tables.';\n",
              "          element.innerHTML = '';\n",
              "          dataTable['output_type'] = 'display_data';\n",
              "          await google.colab.output.renderOutput(dataTable, element);\n",
              "          const docLink = document.createElement('div');\n",
              "          docLink.innerHTML = docLinkHtml;\n",
              "          element.appendChild(docLink);\n",
              "        }\n",
              "      </script>\n",
              "    </div>\n",
              "  </div>\n",
              "  "
            ]
          },
          "metadata": {},
          "execution_count": 106
        }
      ]
    },
    {
      "cell_type": "code",
      "source": [
        "def isfloat(num):\n",
        "    try:\n",
        "        float(num)\n",
        "        return True\n",
        "    except ValueError:\n",
        "        return False\n",
        "\n",
        "# get the Payed\n",
        "for text in df[\"SMS Text\"]:\n",
        "  if \"جنيه\" in text or \"جنيها\" in text:\n",
        "    print(\"-\"*40)\n",
        "    print(text)    \n",
        "    index = text.find(\"جنيه\") \n",
        "    remain = text[0:index]\n",
        "    Payed =  remain[-5:]    \n",
        "    print(\"\\nremain =\",remain)\n",
        "    print(\"\\nPayed =\", Payed)\n",
        "    '''       \n",
        "    for val in Payed:\n",
        "      if val.isdigit() or isfloat(val):\n",
        "        print(text)\n",
        "        print(\"\\nPayed = \", val)\n",
        "        print(\"\\n\",\"*\"*40)\n",
        "         \n",
        "      elif val.replace(\"ج\", \"\").isdigit() or isfloat(val.replace(\"ج\", \"\")) :\n",
        "        print(\"\\nPayed = \", val.replace(\"ج\", \"\"))\n",
        "        print(text)\n",
        "        print(\"\\n\",\"*\"*40)'''"
      ],
      "metadata": {
        "colab": {
          "base_uri": "https://localhost:8080/"
        },
        "id": "W3rIQUT8LqgK",
        "outputId": "59e9141b-622a-4bee-9ee7-751a692d615f"
      },
      "execution_count": null,
      "outputs": [
        {
          "output_type": "stream",
          "name": "stdout",
          "text": [
            "----------------------------------------\n",
            "عزيزي العميل قد تم دفع مبلغ 1247 جنيها يوم 02/10/2020علي حسابكم \n",
            "يمكنك سداد الفتوره عن طريق:\n",
            "-تطبيقMy Etisalat app من اللينك التالي http://myetisalat.page.link\n",
            "او عن طريق موقعنا التالي my.etisalat.eg وكمان تقدر تسدد عن طريق شركتنا للمدفوعات الالكترونيه\n",
            "\n",
            "remain = عزيزي العميل قد تم دفع مبلغ 1247 \n",
            "\n",
            "Payed = 1247 \n",
            "----------------------------------------\n",
            "لقد تم دفع مبلغ 500.0 جنيها في حسابك بنجاح يوم 01/12/2021 الساعه 6 مساءا \n",
            "\n",
            "remain = لقد تم دفع مبلغ 500.0 \n",
            "\n",
            "Payed = 00.0 \n",
            "----------------------------------------\n",
            "عميلنا العزيز لقد قمت بشحن الانترنت المنزلي الخاص بك علي 0225617225ب390جنيه ورصيدك الحالي 369.20 جنيه \n",
            "\n",
            "remain = عميلنا العزيز لقد قمت بشحن الانترنت المنزلي الخاص بك علي 0225617225ب390\n",
            "\n",
            "Payed = 5ب390\n",
            "----------------------------------------\n",
            "تم شحن 105.00 جنيه مع العلم انه تم خصم\n",
            "\n",
            "9 جنيه لسداد خدمة سوبر سلفني. رصيدك\n",
            " الحالي 97.31 جنيه\n",
            "\n",
            "remain = تم شحن 105.00 \n",
            "\n",
            "Payed = 5.00 \n",
            "----------------------------------------\n",
            "تم شحن خطك بمبلغ11.00ج بنجاح.\n",
            "رصيدك الحالى 7.70ج .لا يوجد رصيد\n",
            "كافي لتجديد باقة كنترول بلس30, تأكد\n",
            "من وجود رصيد30جنيه للتجديد\n",
            "\n",
            "remain = تم شحن خطك بمبلغ11.00ج بنجاح.\n",
            "رصيدك الحالى 7.70ج .لا يوجد رصيد\n",
            "كافي لتجديد باقة كنترول بلس30, تأكد\n",
            "من وجود رصيد30\n",
            "\n",
            "Payed = صيد30\n"
          ]
        }
      ]
    },
    {
      "cell_type": "markdown",
      "source": [
        "نخليه يمسكها واحدة واحده وبعد كده يوقف أول ما يقابل أول حرف"
      ],
      "metadata": {
        "id": "lDgfEH0rWr6x"
      }
    }
  ]
}